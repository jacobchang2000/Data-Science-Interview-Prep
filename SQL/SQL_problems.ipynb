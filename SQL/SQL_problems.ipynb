{
 "cells": [
  {
   "cell_type": "markdown",
   "id": "c548c796",
   "metadata": {},
   "source": [
    "### Question 1 - SQL Aggregation & Filtering\n",
    "You have a table transactions:\n",
    "\n",
    "transaction_id | user_id | product_id | purchase_date | amount\n",
    "\n",
    "Write a SQL query to return the top 5 users who spent the most in 2024. The output should include:\n",
    "\n",
    "user_id | total_spent | number_of_purchases\n",
    "\n",
    "Constraints:\n",
    "- Only include purchases where amount > 0\n",
    "- Only consider transactions where purchase_date is in 2024\n",
    "- Sort by total_spent descending"
   ]
  },
  {
   "cell_type": "code",
   "execution_count": 1,
   "id": "b5b1e40d",
   "metadata": {},
   "outputs": [],
   "source": [
    "import sqlite3\n",
    "import pandas as pd\n",
    "\n",
    "conn = sqlite3.connect(\"example.db\")"
   ]
  },
  {
   "cell_type": "code",
   "execution_count": 3,
   "id": "efb9ac58",
   "metadata": {},
   "outputs": [
    {
     "data": {
      "text/html": [
       "<div>\n",
       "<style scoped>\n",
       "    .dataframe tbody tr th:only-of-type {\n",
       "        vertical-align: middle;\n",
       "    }\n",
       "\n",
       "    .dataframe tbody tr th {\n",
       "        vertical-align: top;\n",
       "    }\n",
       "\n",
       "    .dataframe thead th {\n",
       "        text-align: right;\n",
       "    }\n",
       "</style>\n",
       "<table border=\"1\" class=\"dataframe\">\n",
       "  <thead>\n",
       "    <tr style=\"text-align: right;\">\n",
       "      <th></th>\n",
       "      <th>user_id</th>\n",
       "      <th>total_spent</th>\n",
       "      <th>purchase_count</th>\n",
       "    </tr>\n",
       "  </thead>\n",
       "  <tbody>\n",
       "    <tr>\n",
       "      <th>0</th>\n",
       "      <td>Phil</td>\n",
       "      <td>400</td>\n",
       "      <td>1</td>\n",
       "    </tr>\n",
       "    <tr>\n",
       "      <th>1</th>\n",
       "      <td>Jack</td>\n",
       "      <td>300</td>\n",
       "      <td>1</td>\n",
       "    </tr>\n",
       "    <tr>\n",
       "      <th>2</th>\n",
       "      <td>Alice</td>\n",
       "      <td>250</td>\n",
       "      <td>1</td>\n",
       "    </tr>\n",
       "  </tbody>\n",
       "</table>\n",
       "</div>"
      ],
      "text/plain": [
       "  user_id  total_spent  purchase_count\n",
       "0    Phil          400               1\n",
       "1    Jack          300               1\n",
       "2   Alice          250               1"
      ]
     },
     "execution_count": 3,
     "metadata": {},
     "output_type": "execute_result"
    }
   ],
   "source": [
    "query = \"\"\"\n",
    "    SELECT user_id, SUM(amount) as total_spent, COUNT(*) as purchase_count\n",
    "    FROM transactions\n",
    "    WHERE amount > 150\n",
    "    AND purchase_date >= '2023-01-01'\n",
    "    GROUP BY user_id\n",
    "    ORDER BY total_spent DESC\n",
    "    LIMIT 5;\n",
    "\"\"\"\n",
    "\n",
    "df = pd.read_sql(query, conn)\n",
    "df"
   ]
  }
 ],
 "metadata": {
  "kernelspec": {
   "display_name": "Python 3",
   "language": "python",
   "name": "python3"
  },
  "language_info": {
   "codemirror_mode": {
    "name": "ipython",
    "version": 3
   },
   "file_extension": ".py",
   "mimetype": "text/x-python",
   "name": "python",
   "nbconvert_exporter": "python",
   "pygments_lexer": "ipython3",
   "version": "3.9.6"
  }
 },
 "nbformat": 4,
 "nbformat_minor": 5
}
